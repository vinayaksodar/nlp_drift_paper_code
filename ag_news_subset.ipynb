{
 "cells": [
  {
   "cell_type": "code",
   "execution_count": 30,
   "metadata": {},
   "outputs": [
    {
     "data": {
      "text/plain": [
       "<module 'data_handling.text_dataset_loader' from '/Users/vinayak/Development/nlp_drift_paper_code/data_handling/text_dataset_loader.py'>"
      ]
     },
     "execution_count": 30,
     "metadata": {},
     "output_type": "execute_result"
    }
   ],
   "source": [
    "from data_handling import text_dataset_loader\n",
    "import importlib\n",
    "importlib.reload(text_dataset_loader)\n"
   ]
  },
  {
   "cell_type": "code",
   "execution_count": 31,
   "metadata": {},
   "outputs": [
    {
     "name": "stderr",
     "output_type": "stream",
     "text": [
      "2023-06-07 12:18:45.225698: W tensorflow/core/kernels/data/cache_dataset_ops.cc:856] The calling iterator did not fully read the dataset being cached. In order to avoid unexpected truncation of the dataset, the partially cached contents of the dataset  will be discarded. This can happen if you have an input pipeline similar to `dataset.cache().take(k).repeat()`. You should use `dataset.take(k).cache().repeat()` instead.\n"
     ]
    },
    {
     "name": "stdout",
     "output_type": "stream",
     "text": [
      "description\n",
      "label\n",
      "title\n",
      "                                         description  label  \\\n",
      "0   CHARLOTTE, N.C. (Sports Network) - Carolina P...      1   \n",
      "1   PRESENTACION, Philippines (Reuters) - Philipp...      0   \n",
      "2  SAN FRANCISCO, CA - November 30, 2004 -Ubisoft...      3   \n",
      "3  DANIEL VETTORI spun New Zealand to the brink o...      1   \n",
      "4  AFP - Georgian and South Ossetian forces overn...      0   \n",
      "\n",
      "                                               title  \n",
      "0               Carolina's Davis Done for the Season  \n",
      "1      Philippine Rebels Free Troops, Talks in Doubt  \n",
      "2          New Rainbow Six Franchise for Spring 2005  \n",
      "3                          Kiwis heading for big win  \n",
      "4  Shelling, shooting resumes in breakaway Georgi...  \n"
     ]
    }
   ],
   "source": [
    "import pandas as pd\n",
    "import numpy as np\n",
    "\n",
    "from data_handling.text_dataset_loader import TextDatasetLoader\n",
    "\n",
    "data_loader = TextDatasetLoader(tfds_dataset='ag_news_subset')\n",
    "data_loader.load_data()\n",
    "data_loader.convert_bytes_to_string()\n",
    "data_raw= data_loader.get_data()\n",
    "print(data_raw.head(5))\n"
   ]
  },
  {
   "cell_type": "code",
   "execution_count": 33,
   "metadata": {},
   "outputs": [
    {
     "name": "stdout",
     "output_type": "stream",
     "text": [
      "object\n"
     ]
    }
   ],
   "source": [
    "print(data['description'].dtype)"
   ]
  },
  {
   "cell_type": "code",
   "execution_count": 32,
   "metadata": {},
   "outputs": [],
   "source": [
    "\n",
    "# Convert the text column from bytes to string\n",
    "#data['description'] = data['description'].str.decode('utf-8')\n",
    "data_raw.to_csv('/Users/vinayak/Development/nlp_drift_paper_code/datasets/ag_news_subset_test.csv',header=True, index=False)\n"
   ]
  },
  {
   "cell_type": "code",
   "execution_count": 4,
   "metadata": {},
   "outputs": [
    {
     "data": {
      "text/html": [
       "<div>\n",
       "<style scoped>\n",
       "    .dataframe tbody tr th:only-of-type {\n",
       "        vertical-align: middle;\n",
       "    }\n",
       "\n",
       "    .dataframe tbody tr th {\n",
       "        vertical-align: top;\n",
       "    }\n",
       "\n",
       "    .dataframe thead th {\n",
       "        text-align: right;\n",
       "    }\n",
       "</style>\n",
       "<table border=\"1\" class=\"dataframe\">\n",
       "  <thead>\n",
       "    <tr style=\"text-align: right;\">\n",
       "      <th></th>\n",
       "      <th>description</th>\n",
       "      <th>label</th>\n",
       "      <th>title</th>\n",
       "    </tr>\n",
       "  </thead>\n",
       "  <tbody>\n",
       "    <tr>\n",
       "      <th>0</th>\n",
       "      <td>AMD #39;s new dual-core Opteron chip is design...</td>\n",
       "      <td>3</td>\n",
       "      <td>b'AMD Debuts Dual-Core Opteron Processor'</td>\n",
       "    </tr>\n",
       "    <tr>\n",
       "      <th>1</th>\n",
       "      <td>Reuters - Major League Baseball\\Monday announc...</td>\n",
       "      <td>1</td>\n",
       "      <td>b\"Wood's Suspension Upheld (Reuters)\"</td>\n",
       "    </tr>\n",
       "    <tr>\n",
       "      <th>2</th>\n",
       "      <td>President Bush #39;s  quot;revenue-neutral quo...</td>\n",
       "      <td>2</td>\n",
       "      <td>b'Bush reform may have blue states seeing red'</td>\n",
       "    </tr>\n",
       "    <tr>\n",
       "      <th>3</th>\n",
       "      <td>Britain will run out of leading scientists unl...</td>\n",
       "      <td>3</td>\n",
       "      <td>b\"'Halt science decline in schools'\"</td>\n",
       "    </tr>\n",
       "    <tr>\n",
       "      <th>4</th>\n",
       "      <td>London, England (Sports Network) - England mid...</td>\n",
       "      <td>1</td>\n",
       "      <td>b'Gerrard leaves practice'</td>\n",
       "    </tr>\n",
       "  </tbody>\n",
       "</table>\n",
       "</div>"
      ],
      "text/plain": [
       "                                         description  label  \\\n",
       "0  AMD #39;s new dual-core Opteron chip is design...      3   \n",
       "1  Reuters - Major League Baseball\\Monday announc...      1   \n",
       "2  President Bush #39;s  quot;revenue-neutral quo...      2   \n",
       "3  Britain will run out of leading scientists unl...      3   \n",
       "4  London, England (Sports Network) - England mid...      1   \n",
       "\n",
       "                                            title  \n",
       "0       b'AMD Debuts Dual-Core Opteron Processor'  \n",
       "1           b\"Wood's Suspension Upheld (Reuters)\"  \n",
       "2  b'Bush reform may have blue states seeing red'  \n",
       "3            b\"'Halt science decline in schools'\"  \n",
       "4                      b'Gerrard leaves practice'  "
      ]
     },
     "execution_count": 4,
     "metadata": {},
     "output_type": "execute_result"
    }
   ],
   "source": [
    "data.head()\n"
   ]
  },
  {
   "cell_type": "code",
   "execution_count": 37,
   "metadata": {},
   "outputs": [
    {
     "name": "stdout",
     "output_type": "stream",
     "text": [
      "The autoreload extension is already loaded. To reload it, use:\n",
      "  %reload_ext autoreload\n"
     ]
    },
    {
     "data": {
      "text/plain": [
       "<module 'sentence_embedder' from '/Users/vinayak/Development/nlp_drift_paper_code/sentence_embedder.py'>"
      ]
     },
     "execution_count": 37,
     "metadata": {},
     "output_type": "execute_result"
    }
   ],
   "source": [
    "%load_ext autoreload\n",
    "%autoreload 2\n",
    "import importlib\n",
    "\n",
    "import sentence_embedder\n",
    "importlib.reload(sentence_embedder)"
   ]
  },
  {
   "cell_type": "code",
   "execution_count": 20,
   "metadata": {},
   "outputs": [],
   "source": [
    "import pandas as pd\n",
    "import numpy as np\n",
    "#Get the embeddings\n",
    "data = pd.read_csv('/Users/vinayak/Development/nlp_drift_paper_code/datasets/ag_news_subset_test.csv')"
   ]
  },
  {
   "cell_type": "code",
   "execution_count": 21,
   "metadata": {},
   "outputs": [
    {
     "data": {
      "text/html": [
       "<div>\n",
       "<style scoped>\n",
       "    .dataframe tbody tr th:only-of-type {\n",
       "        vertical-align: middle;\n",
       "    }\n",
       "\n",
       "    .dataframe tbody tr th {\n",
       "        vertical-align: top;\n",
       "    }\n",
       "\n",
       "    .dataframe thead th {\n",
       "        text-align: right;\n",
       "    }\n",
       "</style>\n",
       "<table border=\"1\" class=\"dataframe\">\n",
       "  <thead>\n",
       "    <tr style=\"text-align: right;\">\n",
       "      <th></th>\n",
       "      <th>description</th>\n",
       "      <th>label</th>\n",
       "      <th>title</th>\n",
       "    </tr>\n",
       "  </thead>\n",
       "  <tbody>\n",
       "    <tr>\n",
       "      <th>0</th>\n",
       "      <td>CHARLOTTE, N.C. (Sports Network) - Carolina P...</td>\n",
       "      <td>1</td>\n",
       "      <td>Carolina's Davis Done for the Season</td>\n",
       "    </tr>\n",
       "    <tr>\n",
       "      <th>1</th>\n",
       "      <td>PRESENTACION, Philippines (Reuters) - Philipp...</td>\n",
       "      <td>0</td>\n",
       "      <td>Philippine Rebels Free Troops, Talks in Doubt</td>\n",
       "    </tr>\n",
       "    <tr>\n",
       "      <th>2</th>\n",
       "      <td>SAN FRANCISCO, CA - November 30, 2004 -Ubisoft...</td>\n",
       "      <td>3</td>\n",
       "      <td>New Rainbow Six Franchise for Spring 2005</td>\n",
       "    </tr>\n",
       "    <tr>\n",
       "      <th>3</th>\n",
       "      <td>DANIEL VETTORI spun New Zealand to the brink o...</td>\n",
       "      <td>1</td>\n",
       "      <td>Kiwis heading for big win</td>\n",
       "    </tr>\n",
       "    <tr>\n",
       "      <th>4</th>\n",
       "      <td>AFP - Georgian and South Ossetian forces overn...</td>\n",
       "      <td>0</td>\n",
       "      <td>Shelling, shooting resumes in breakaway Georgi...</td>\n",
       "    </tr>\n",
       "  </tbody>\n",
       "</table>\n",
       "</div>"
      ],
      "text/plain": [
       "                                         description  label  \\\n",
       "0   CHARLOTTE, N.C. (Sports Network) - Carolina P...      1   \n",
       "1   PRESENTACION, Philippines (Reuters) - Philipp...      0   \n",
       "2  SAN FRANCISCO, CA - November 30, 2004 -Ubisoft...      3   \n",
       "3  DANIEL VETTORI spun New Zealand to the brink o...      1   \n",
       "4  AFP - Georgian and South Ossetian forces overn...      0   \n",
       "\n",
       "                                               title  \n",
       "0               Carolina's Davis Done for the Season  \n",
       "1      Philippine Rebels Free Troops, Talks in Doubt  \n",
       "2          New Rainbow Six Franchise for Spring 2005  \n",
       "3                          Kiwis heading for big win  \n",
       "4  Shelling, shooting resumes in breakaway Georgi...  "
      ]
     },
     "execution_count": 21,
     "metadata": {},
     "output_type": "execute_result"
    }
   ],
   "source": [
    "data.head()"
   ]
  },
  {
   "cell_type": "code",
   "execution_count": 34,
   "metadata": {},
   "outputs": [
    {
     "name": "stdout",
     "output_type": "stream",
     "text": [
      "[[0. 0. 0. ... 0. 0. 0.]\n",
      " [0. 0. 0. ... 0. 0. 0.]\n",
      " [0. 0. 0. ... 0. 0. 0.]\n",
      " ...\n",
      " [0. 0. 0. ... 0. 0. 0.]\n",
      " [0. 0. 0. ... 0. 0. 0.]\n",
      " [0. 0. 0. ... 0. 0. 0.]]\n"
     ]
    }
   ],
   "source": [
    "from sentence_embedder import SentenceEmbedder\n",
    "embedder = SentenceEmbedder()\n",
    "\n",
    "# Train the TF-IDF vectorizer\n",
    "embedder.train_tfidf_vectorizer(data['description'].iloc[:3000])\n",
    "\n",
    "# Generate TF-IDF vectors\n",
    "tfidf_vectors = embedder.generate_tfidf_vectors(data['description'].iloc[3000:])\n",
    "\n",
    "# Save the TF-IDF vectors to a CSV file\n",
    "embedder.save_embeddings_to_csv(tfidf_vectors, \"/Users/vinayak/Development/nlp_drift_paper_code/embeddings/ag_news_subset_tfidf.csv\")\n",
    "\n",
    "# Load the TF-IDF vectors from the CSV file\n",
    "loaded_tfidf_vectors = embedder.load_embeddings_from_csv(\"/Users/vinayak/Development/nlp_drift_paper_code/embeddings/ag_news_subset_tfidf.csv\")\n",
    "\n",
    "# Print the loaded TF-IDF vectors\n",
    "print(loaded_tfidf_vectors)\n"
   ]
  },
  {
   "cell_type": "code",
   "execution_count": 40,
   "metadata": {},
   "outputs": [],
   "source": [
    "embedder.save_model(embedder.tfidf_vectorizer, filename='/Users/vinayak/Development/nlp_drift_paper_code/embedding_objects/ag_news_tfidf.pkl')"
   ]
  },
  {
   "cell_type": "code",
   "execution_count": 43,
   "metadata": {},
   "outputs": [],
   "source": [
    "embedder=SentenceEmbedder()\n",
    "embedder.load_tfidf_vectorizer('/Users/vinayak/Development/nlp_drift_paper_code/embedding_objects/ag_news_tfidf.pkl')"
   ]
  },
  {
   "cell_type": "code",
   "execution_count": 44,
   "metadata": {},
   "outputs": [],
   "source": [
    "# Generate TF-IDF vectors\n",
    "tfidf_vectors = embedder.generate_tfidf_vectors(data['description'].iloc[3000:])"
   ]
  },
  {
   "cell_type": "code",
   "execution_count": 46,
   "metadata": {},
   "outputs": [
    {
     "name": "stdout",
     "output_type": "stream",
     "text": [
      "  (0, 10414)\t0.20582443999301683\n",
      "  (0, 10288)\t0.301657408922\n",
      "  (0, 9614)\t0.24572335638793905\n",
      "  (0, 8368)\t0.1921159655406194\n",
      "  (0, 7321)\t0.26424325897485\n",
      "  (0, 7315)\t0.18492207497891144\n",
      "  (0, 6783)\t0.19140294615911\n",
      "  (0, 6604)\t0.16603714160388852\n",
      "  (0, 6386)\t0.301657408922\n",
      "  (0, 5645)\t0.22395967955964655\n",
      "  (0, 5411)\t0.1686689040958524\n",
      "  (0, 5401)\t0.24877661959137432\n",
      "  (0, 4059)\t0.1635752922047255\n",
      "  (0, 3909)\t0.29068365364016285\n",
      "  (0, 3437)\t0.301657408922\n",
      "  (0, 2445)\t0.17409761705502874\n",
      "  (0, 2115)\t0.22929095842686303\n",
      "  (0, 1062)\t0.29068365364016285\n",
      "  (1, 10642)\t0.2517910331041187\n",
      "  (1, 10553)\t0.38926484375888076\n",
      "  (1, 9555)\t0.23374485234119272\n",
      "  (1, 9345)\t0.25824235658105416\n",
      "  (1, 8247)\t0.38926484375888076\n",
      "  (1, 7333)\t0.36855291555896713\n",
      "  (1, 7179)\t0.28304301838864165\n",
      "  :\t:\n",
      "  (4598, 7338)\t0.29592939949664193\n",
      "  (4598, 6572)\t0.2851640189201056\n",
      "  (4598, 6392)\t0.22137046430732416\n",
      "  (4598, 5736)\t0.2357024569763941\n",
      "  (4598, 4138)\t0.1857452440330521\n",
      "  (4598, 3241)\t0.2473087966152286\n",
      "  (4598, 2420)\t0.13453091712183116\n",
      "  (4598, 1932)\t0.29592939949664193\n",
      "  (4598, 1899)\t0.2851640189201056\n",
      "  (4598, 1881)\t0.18025918026805163\n",
      "  (4598, 959)\t0.22137046430732416\n",
      "  (4599, 10221)\t0.33216789879735775\n",
      "  (4599, 9544)\t0.17468206304430686\n",
      "  (4599, 8608)\t0.2882728630244587\n",
      "  (4599, 8292)\t0.33216789879735775\n",
      "  (4599, 7398)\t0.23636003294255684\n",
      "  (4599, 7232)\t0.31596754712766423\n",
      "  (4599, 7227)\t0.28211377516859876\n",
      "  (4599, 7192)\t0.22015968127286334\n",
      "  (4599, 5933)\t0.33216789879735775\n",
      "  (4599, 5260)\t0.20355776860083116\n",
      "  (4599, 5069)\t0.2720725113547651\n",
      "  (4599, 3915)\t0.18630590931379787\n",
      "  (4599, 2037)\t0.33216789879735775\n",
      "  (4599, 375)\t0.10542176948834524\n"
     ]
    }
   ],
   "source": [
    "print(tfidf_vectors)"
   ]
  },
  {
   "cell_type": "code",
   "execution_count": 7,
   "metadata": {},
   "outputs": [],
   "source": [
    "tfidf_vectors_df=pd.DataFrame(tfidf_vectors.toarray())"
   ]
  },
  {
   "cell_type": "code",
   "execution_count": 8,
   "metadata": {},
   "outputs": [
    {
     "data": {
      "text/html": [
       "<div>\n",
       "<style scoped>\n",
       "    .dataframe tbody tr th:only-of-type {\n",
       "        vertical-align: middle;\n",
       "    }\n",
       "\n",
       "    .dataframe tbody tr th {\n",
       "        vertical-align: top;\n",
       "    }\n",
       "\n",
       "    .dataframe thead th {\n",
       "        text-align: right;\n",
       "    }\n",
       "</style>\n",
       "<table border=\"1\" class=\"dataframe\">\n",
       "  <thead>\n",
       "    <tr style=\"text-align: right;\">\n",
       "      <th></th>\n",
       "      <th>0</th>\n",
       "      <th>1</th>\n",
       "      <th>2</th>\n",
       "      <th>3</th>\n",
       "      <th>4</th>\n",
       "      <th>5</th>\n",
       "      <th>6</th>\n",
       "      <th>7</th>\n",
       "      <th>8</th>\n",
       "      <th>9</th>\n",
       "      <th>...</th>\n",
       "      <th>17525</th>\n",
       "      <th>17526</th>\n",
       "      <th>17527</th>\n",
       "      <th>17528</th>\n",
       "      <th>17529</th>\n",
       "      <th>17530</th>\n",
       "      <th>17531</th>\n",
       "      <th>17532</th>\n",
       "      <th>17533</th>\n",
       "      <th>17534</th>\n",
       "    </tr>\n",
       "  </thead>\n",
       "  <tbody>\n",
       "    <tr>\n",
       "      <th>0</th>\n",
       "      <td>0.0</td>\n",
       "      <td>0.0</td>\n",
       "      <td>0.0</td>\n",
       "      <td>0.0</td>\n",
       "      <td>0.0</td>\n",
       "      <td>0.0</td>\n",
       "      <td>0.0</td>\n",
       "      <td>0.0</td>\n",
       "      <td>0.0</td>\n",
       "      <td>0.0</td>\n",
       "      <td>...</td>\n",
       "      <td>0.0</td>\n",
       "      <td>0.0</td>\n",
       "      <td>0.0</td>\n",
       "      <td>0.0</td>\n",
       "      <td>0.0</td>\n",
       "      <td>0.0</td>\n",
       "      <td>0.0</td>\n",
       "      <td>0.0</td>\n",
       "      <td>0.0</td>\n",
       "      <td>0.0</td>\n",
       "    </tr>\n",
       "    <tr>\n",
       "      <th>1</th>\n",
       "      <td>0.0</td>\n",
       "      <td>0.0</td>\n",
       "      <td>0.0</td>\n",
       "      <td>0.0</td>\n",
       "      <td>0.0</td>\n",
       "      <td>0.0</td>\n",
       "      <td>0.0</td>\n",
       "      <td>0.0</td>\n",
       "      <td>0.0</td>\n",
       "      <td>0.0</td>\n",
       "      <td>...</td>\n",
       "      <td>0.0</td>\n",
       "      <td>0.0</td>\n",
       "      <td>0.0</td>\n",
       "      <td>0.0</td>\n",
       "      <td>0.0</td>\n",
       "      <td>0.0</td>\n",
       "      <td>0.0</td>\n",
       "      <td>0.0</td>\n",
       "      <td>0.0</td>\n",
       "      <td>0.0</td>\n",
       "    </tr>\n",
       "    <tr>\n",
       "      <th>2</th>\n",
       "      <td>0.0</td>\n",
       "      <td>0.0</td>\n",
       "      <td>0.0</td>\n",
       "      <td>0.0</td>\n",
       "      <td>0.0</td>\n",
       "      <td>0.0</td>\n",
       "      <td>0.0</td>\n",
       "      <td>0.0</td>\n",
       "      <td>0.0</td>\n",
       "      <td>0.0</td>\n",
       "      <td>...</td>\n",
       "      <td>0.0</td>\n",
       "      <td>0.0</td>\n",
       "      <td>0.0</td>\n",
       "      <td>0.0</td>\n",
       "      <td>0.0</td>\n",
       "      <td>0.0</td>\n",
       "      <td>0.0</td>\n",
       "      <td>0.0</td>\n",
       "      <td>0.0</td>\n",
       "      <td>0.0</td>\n",
       "    </tr>\n",
       "    <tr>\n",
       "      <th>3</th>\n",
       "      <td>0.0</td>\n",
       "      <td>0.0</td>\n",
       "      <td>0.0</td>\n",
       "      <td>0.0</td>\n",
       "      <td>0.0</td>\n",
       "      <td>0.0</td>\n",
       "      <td>0.0</td>\n",
       "      <td>0.0</td>\n",
       "      <td>0.0</td>\n",
       "      <td>0.0</td>\n",
       "      <td>...</td>\n",
       "      <td>0.0</td>\n",
       "      <td>0.0</td>\n",
       "      <td>0.0</td>\n",
       "      <td>0.0</td>\n",
       "      <td>0.0</td>\n",
       "      <td>0.0</td>\n",
       "      <td>0.0</td>\n",
       "      <td>0.0</td>\n",
       "      <td>0.0</td>\n",
       "      <td>0.0</td>\n",
       "    </tr>\n",
       "    <tr>\n",
       "      <th>4</th>\n",
       "      <td>0.0</td>\n",
       "      <td>0.0</td>\n",
       "      <td>0.0</td>\n",
       "      <td>0.0</td>\n",
       "      <td>0.0</td>\n",
       "      <td>0.0</td>\n",
       "      <td>0.0</td>\n",
       "      <td>0.0</td>\n",
       "      <td>0.0</td>\n",
       "      <td>0.0</td>\n",
       "      <td>...</td>\n",
       "      <td>0.0</td>\n",
       "      <td>0.0</td>\n",
       "      <td>0.0</td>\n",
       "      <td>0.0</td>\n",
       "      <td>0.0</td>\n",
       "      <td>0.0</td>\n",
       "      <td>0.0</td>\n",
       "      <td>0.0</td>\n",
       "      <td>0.0</td>\n",
       "      <td>0.0</td>\n",
       "    </tr>\n",
       "  </tbody>\n",
       "</table>\n",
       "<p>5 rows × 17535 columns</p>\n",
       "</div>"
      ],
      "text/plain": [
       "   0      1      2      3      4      5      6      7      8      9      ...  \\\n",
       "0    0.0    0.0    0.0    0.0    0.0    0.0    0.0    0.0    0.0    0.0  ...   \n",
       "1    0.0    0.0    0.0    0.0    0.0    0.0    0.0    0.0    0.0    0.0  ...   \n",
       "2    0.0    0.0    0.0    0.0    0.0    0.0    0.0    0.0    0.0    0.0  ...   \n",
       "3    0.0    0.0    0.0    0.0    0.0    0.0    0.0    0.0    0.0    0.0  ...   \n",
       "4    0.0    0.0    0.0    0.0    0.0    0.0    0.0    0.0    0.0    0.0  ...   \n",
       "\n",
       "   17525  17526  17527  17528  17529  17530  17531  17532  17533  17534  \n",
       "0    0.0    0.0    0.0    0.0    0.0    0.0    0.0    0.0    0.0    0.0  \n",
       "1    0.0    0.0    0.0    0.0    0.0    0.0    0.0    0.0    0.0    0.0  \n",
       "2    0.0    0.0    0.0    0.0    0.0    0.0    0.0    0.0    0.0    0.0  \n",
       "3    0.0    0.0    0.0    0.0    0.0    0.0    0.0    0.0    0.0    0.0  \n",
       "4    0.0    0.0    0.0    0.0    0.0    0.0    0.0    0.0    0.0    0.0  \n",
       "\n",
       "[5 rows x 17535 columns]"
      ]
     },
     "execution_count": 8,
     "metadata": {},
     "output_type": "execute_result"
    }
   ],
   "source": [
    "tfidf_vectors_df.head()"
   ]
  },
  {
   "cell_type": "code",
   "execution_count": 13,
   "metadata": {},
   "outputs": [],
   "source": [
    "from data_handling.embeddings_loader import EmbeddingLoader\n",
    "embedding_loader=EmbeddingLoader('/Users/vinayak/Development/nlp_drift_paper_code/embeddings/ag_news_subset_tfidf.pkl')"
   ]
  },
  {
   "cell_type": "code",
   "execution_count": 14,
   "metadata": {},
   "outputs": [],
   "source": [
    "tfidf_embeddings=embedding_loader.load_embeddings()"
   ]
  },
  {
   "cell_type": "code",
   "execution_count": 48,
   "metadata": {},
   "outputs": [
    {
     "name": "stdout",
     "output_type": "stream",
     "text": [
      "  (0, 13684)\t0.17577645392453714\n",
      "  (0, 13150)\t0.2261627443430986\n",
      "  (0, 8086)\t0.23007013929280912\n",
      "  (0, 11862)\t0.21267388818474417\n",
      "  (0, 13829)\t0.17443584612280286\n",
      "  (0, 13072)\t0.3067321455604178\n",
      "  (0, 10179)\t0.20971799523151446\n",
      "  (0, 4597)\t0.26224707452220675\n",
      "  (0, 14884)\t0.2877772571624484\n",
      "  (0, 2307)\t0.18048156416281924\n",
      "  (0, 13482)\t0.18810291383428782\n",
      "  (0, 11450)\t0.3179636466818577\n",
      "  (0, 3428)\t0.2578225678253903\n",
      "  (0, 10693)\t0.18028971431171842\n",
      "  (0, 14720)\t0.19281839010733137\n",
      "  (0, 10608)\t0.32508172933519097\n",
      "  (0, 3621)\t0.29802031647260513\n",
      "  (1, 6897)\t0.1442025570247568\n",
      "  (1, 15320)\t0.16778240431352734\n",
      "  (1, 11593)\t0.199297470819625\n",
      "  (1, 4100)\t0.21517118075842234\n",
      "  (1, 12895)\t0.2632629481270592\n",
      "  (1, 16894)\t0.18203544759416088\n",
      "  (1, 13697)\t0.13647482942053524\n",
      "  (1, 10294)\t0.14977152617939643\n",
      "  :\t:\n",
      "  (7598, 11928)\t0.23103788841350742\n",
      "  (7598, 5279)\t0.21024284667337864\n",
      "  (7598, 10681)\t0.2578651468721754\n",
      "  (7598, 10387)\t0.19779827955071222\n",
      "  (7598, 9286)\t0.19010608507007445\n",
      "  (7598, 3213)\t0.14780444409000146\n",
      "  (7598, 1743)\t0.18658444409842384\n",
      "  (7598, 14062)\t0.1459041458190189\n",
      "  (7598, 6715)\t0.15450454280565926\n",
      "  (7598, 4019)\t0.11351348035064214\n",
      "  (7598, 15852)\t0.1390239236930367\n",
      "  (7599, 9632)\t0.3404724384819246\n",
      "  (7599, 16594)\t0.3315862942819624\n",
      "  (7599, 8197)\t0.27258503020584923\n",
      "  (7599, 13504)\t0.351928670869079\n",
      "  (7599, 14008)\t0.28526666836688486\n",
      "  (7599, 11765)\t0.31818711336774563\n",
      "  (7599, 3477)\t0.31818711336774563\n",
      "  (7599, 11758)\t0.2629813432527059\n",
      "  (7599, 8517)\t0.2084931158908473\n",
      "  (7599, 15478)\t0.17303087580905493\n",
      "  (7599, 6335)\t0.18932639798134024\n",
      "  (7599, 11694)\t0.21923180552482055\n",
      "  (7599, 12020)\t0.2339810325193221\n",
      "  (7599, 711)\t0.10434110569472589\n"
     ]
    }
   ],
   "source": [
    "print(tfidf_embeddings)"
   ]
  },
  {
   "cell_type": "code",
   "execution_count": 49,
   "metadata": {},
   "outputs": [
    {
     "data": {
      "text/plain": [
       "dtype('float64')"
      ]
     },
     "execution_count": 49,
     "metadata": {},
     "output_type": "execute_result"
    }
   ],
   "source": [
    "tfidf_vectors.dtype"
   ]
  },
  {
   "cell_type": "code",
   "execution_count": 51,
   "metadata": {},
   "outputs": [
    {
     "data": {
      "text/plain": [
       "(4600, 10800)"
      ]
     },
     "execution_count": 51,
     "metadata": {},
     "output_type": "execute_result"
    }
   ],
   "source": [
    "tfidf_vectors.shape"
   ]
  },
  {
   "cell_type": "code",
   "execution_count": 53,
   "metadata": {},
   "outputs": [
    {
     "name": "stdout",
     "output_type": "stream",
     "text": [
      "   0      1      2      3      4      5      6      7      8      9      ...  \\\n",
      "0    0.0    0.0    0.0    0.0    0.0    0.0    0.0    0.0    0.0    0.0  ...   \n",
      "1    0.0    0.0    0.0    0.0    0.0    0.0    0.0    0.0    0.0    0.0  ...   \n",
      "2    0.0    0.0    0.0    0.0    0.0    0.0    0.0    0.0    0.0    0.0  ...   \n",
      "3    0.0    0.0    0.0    0.0    0.0    0.0    0.0    0.0    0.0    0.0  ...   \n",
      "4    0.0    0.0    0.0    0.0    0.0    0.0    0.0    0.0    0.0    0.0  ...   \n",
      "\n",
      "   10790  10791  10792  10793  10794  10795  10796  10797  10798  10799  \n",
      "0    0.0    0.0    0.0    0.0    0.0    0.0    0.0    0.0    0.0    0.0  \n",
      "1    0.0    0.0    0.0    0.0    0.0    0.0    0.0    0.0    0.0    0.0  \n",
      "2    0.0    0.0    0.0    0.0    0.0    0.0    0.0    0.0    0.0    0.0  \n",
      "3    0.0    0.0    0.0    0.0    0.0    0.0    0.0    0.0    0.0    0.0  \n",
      "4    0.0    0.0    0.0    0.0    0.0    0.0    0.0    0.0    0.0    0.0  \n",
      "\n",
      "[5 rows x 10800 columns]\n"
     ]
    }
   ],
   "source": [
    "tfidf_embeddings_df=pd.DataFrame(tfidf_vectors.toarray())\n",
    "print(tfidf_embeddings_df.head())"
   ]
  }
 ],
 "metadata": {
  "kernelspec": {
   "display_name": "nlp_drift_paper_code",
   "language": "python",
   "name": "python3"
  },
  "language_info": {
   "codemirror_mode": {
    "name": "ipython",
    "version": 3
   },
   "file_extension": ".py",
   "mimetype": "text/x-python",
   "name": "python",
   "nbconvert_exporter": "python",
   "pygments_lexer": "ipython3",
   "version": "3.10.11"
  },
  "orig_nbformat": 4
 },
 "nbformat": 4,
 "nbformat_minor": 2
}
